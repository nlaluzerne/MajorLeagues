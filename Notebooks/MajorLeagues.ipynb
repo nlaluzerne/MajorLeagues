{
 "cells": [
  {
   "cell_type": "markdown",
   "metadata": {},
   "source": [
    "Natalie LaLuzerne"
   ]
  },
  {
   "cell_type": "markdown",
   "metadata": {},
   "source": [
    "Imports"
   ]
  },
  {
   "cell_type": "code",
   "execution_count": 1,
   "metadata": {},
   "outputs": [],
   "source": [
    "import pandas as pd\n",
    "import numpy as np\n",
    "from sklearn import preprocessing\n",
    "from sklearn.model_selection import train_test_split\n",
    "from sklearn.ensemble import RandomForestRegressor"
   ]
  },
  {
   "cell_type": "markdown",
   "metadata": {},
   "source": [
    "Constants"
   ]
  },
  {
   "cell_type": "code",
   "execution_count": 2,
   "metadata": {},
   "outputs": [],
   "source": [
    "data_path = r'..\\Data\\nfl_games.csv'"
   ]
  },
  {
   "cell_type": "markdown",
   "metadata": {},
   "source": [
    "Load the data set"
   ]
  },
  {
   "cell_type": "code",
   "execution_count": 3,
   "metadata": {},
   "outputs": [],
   "source": [
    "data = pd.read_csv( data_path )"
   ]
  },
  {
   "cell_type": "markdown",
   "metadata": {},
   "source": [
    "Remove the date, season, neutral, and result1 columns as these will not be considered when performing regression."
   ]
  },
  {
   "cell_type": "code",
   "execution_count": 4,
   "metadata": {},
   "outputs": [],
   "source": [
    "data = data.drop( columns = [ 'date', 'season', 'neutral', 'result1' ] )"
   ]
  },
  {
   "cell_type": "markdown",
   "metadata": {},
   "source": [
    "Remove any rows with missing data so that missing data does not ne"
   ]
  },
  {
   "cell_type": "code",
   "execution_count": 5,
   "metadata": {},
   "outputs": [],
   "source": [
    "data = data.dropna()"
   ]
  },
  {
   "cell_type": "markdown",
   "metadata": {},
   "source": [
    "Transform the team names from categorical data to numeric data to "
   ]
  },
  {
   "cell_type": "code",
   "execution_count": 6,
   "metadata": {},
   "outputs": [],
   "source": [
    "labelEncoder = preprocessing.LabelEncoder()\n",
    "data[ 'team1' ] = labelEncoder.fit_transform( data[ 'team1' ] )\n",
    "data[ 'team2' ] = labelEncoder.fit_transform( data[ 'team2' ] )"
   ]
  },
  {
   "cell_type": "markdown",
   "metadata": {},
   "source": [
    "Predict scores for team 1"
   ]
  },
  {
   "cell_type": "markdown",
   "metadata": {},
   "source": [
    "Create the features and labels for regression. Features include attributes from the table except for the result we want. Features for team 1 include: playoff, team1, team2, elo1, elo2, and elo_prob1. Even though we are trying to predict team1's score, we do not include team2's score in the feature set because the scores of either team are independent of each other. The label is the result we want from the regression and for this iteration it is score1."
   ]
  },
  {
   "cell_type": "code",
   "execution_count": 7,
   "metadata": {},
   "outputs": [],
   "source": [
    "x = data[ [ 'playoff', 'team1', 'team2', 'elo1', 'elo2', 'elo_prob1' ] ]\n",
    "y = data[ 'score1' ]"
   ]
  },
  {
   "cell_type": "markdown",
   "metadata": {},
   "source": [
    "Split the labels and features into testing and training sets. The training sets will be used to train the regressor and the testing sets will be used to test the accuracy of the predictions that the regressor makes. For this project I chose to use a ratio of 80/20; 80% of the data is used for training the regressor and 20% of the data is used for testing the regressor."
   ]
  },
  {
   "cell_type": "code",
   "execution_count": 8,
   "metadata": {},
   "outputs": [],
   "source": [
    "x_train, x_test, y_train, y_test = train_test_split( x, y, test_size = 0.2 )"
   ]
  },
  {
   "cell_type": "markdown",
   "metadata": {},
   "source": [
    "Create the regressor. For this project, I decided to try a Random Forest Regression because they are known for being fast and accurate. I used Scikit Learn's RandomForestRegressor() to implement my random forest and used 500 trees. I let the method auto-decide the number of features to use for each of the trees."
   ]
  },
  {
   "cell_type": "code",
   "execution_count": 9,
   "metadata": {},
   "outputs": [],
   "source": [
    "rfr = RandomForestRegressor( n_estimators = 500 )"
   ]
  },
  {
   "cell_type": "markdown",
   "metadata": {},
   "source": [
    "Train the Random Forest Regressor and predict the scores for team1. I trained the regressor using the training sets I created above. Once the regressor was trained, I used the test features set to try to predict team1's scores correctly."
   ]
  },
  {
   "cell_type": "code",
   "execution_count": 10,
   "metadata": {},
   "outputs": [],
   "source": [
    "rfr.fit( x_train, y_train )\n",
    "y_predict = rfr.predict( x_test )"
   ]
  },
  {
   "cell_type": "markdown",
   "metadata": {},
   "source": [
    "Calculate the average score prediction errors for team1. To test the regressor's accuracy, I did a difference comparison between the score predictions from the regressor and what the actual scores were from the scores test set. To do this, I simply took the differrence between the predicted score and the actual score for each test case, then took the mean of the differences."
   ]
  },
  {
   "cell_type": "code",
   "execution_count": 11,
   "metadata": {},
   "outputs": [
    {
     "name": "stdout",
     "output_type": "stream",
     "text": [
      "Average Team 1 Prediction Error: 0.02429 points\n"
     ]
    }
   ],
   "source": [
    "err = [ ( y_predict[ i ] - r ) for i, r in enumerate( y_test ) ]\n",
    "avg_err = np.mean( err )\n",
    "print( 'Average Team 1 Prediction Error: {0:.5f} points'.format( avg_err ) )"
   ]
  },
  {
   "cell_type": "raw",
   "metadata": {},
   "source": [
    "Predict scores for team 2"
   ]
  },
  {
   "cell_type": "markdown",
   "metadata": {},
   "source": [
    "Create the features and labels for regression. Features include attributes from the table except for the result we want. Features for team 1 include: playoff, team1, team2, elo1, elo2, and elo_prob1. Even though we are trying to predict team2's score, we do not include team1's score in the feature set because the scores of either team are independent of each other. The label is the result we want from the regression and for this iteration it is score1."
   ]
  },
  {
   "cell_type": "code",
   "execution_count": 12,
   "metadata": {},
   "outputs": [],
   "source": [
    "x = data[ [ 'playoff', 'team1', 'team2', 'elo1', 'elo2', 'elo_prob1' ] ]\n",
    "y = data[ 'score2' ]"
   ]
  },
  {
   "cell_type": "markdown",
   "metadata": {},
   "source": [
    "Split the labels and features into testing and training sets. The training sets will be used to train the regressor and the testing sets will be used to test the accuracy of the predictions that the regressor makes. For this project I chose to use a ratio of 80/20; 80% of the data is used for training the regressor and 20% of the data is used for testing the regressor."
   ]
  },
  {
   "cell_type": "code",
   "execution_count": 13,
   "metadata": {},
   "outputs": [],
   "source": [
    "x_train, x_test, y_train, y_test = train_test_split( x, y, test_size = 0.2 )"
   ]
  },
  {
   "cell_type": "markdown",
   "metadata": {},
   "source": [
    "Create the regressor. For this project, I decided to try a Random Forest Regression because they are known for being fast and accurate. I used Scikit Learn's RandomForestRegressor() to implement my random forest and used 500 trees. I let the method auto-decide the number of features to use for each of the trees."
   ]
  },
  {
   "cell_type": "code",
   "execution_count": 14,
   "metadata": {},
   "outputs": [],
   "source": [
    "rfr = RandomForestRegressor( n_estimators = 500 )"
   ]
  },
  {
   "cell_type": "markdown",
   "metadata": {},
   "source": [
    "Train the Random Forest Regressor and predict the scores for team2. I trained the regressor using the training sets I created above. Once the regressor was trained, I used the test features set to try to predict team2's scores correctly."
   ]
  },
  {
   "cell_type": "code",
   "execution_count": 15,
   "metadata": {},
   "outputs": [],
   "source": [
    "rfr.fit( x_train, y_train )\n",
    "y_predict = rfr.predict( x_test )"
   ]
  },
  {
   "cell_type": "markdown",
   "metadata": {},
   "source": [
    "Calculate the average score prediction errors for team2. To test the regressor's accuracy, I did a difference comparison between the score predictions from the regressor and what the actual scores were from the scores test set. To do this, I simply took the differrence between the predicted score and the actual score for each test case, then took the mean of the differences."
   ]
  },
  {
   "cell_type": "code",
   "execution_count": 16,
   "metadata": {},
   "outputs": [
    {
     "name": "stdout",
     "output_type": "stream",
     "text": [
      "Average Team 2 Prediction Error: -0.08702 points\n"
     ]
    }
   ],
   "source": [
    "err = [ ( y_predict[ i ] - r ) for i, r in enumerate( y_test ) ]\n",
    "avg_err = np.mean( err )\n",
    "print( 'Average Team 2 Prediction Error: {0:.5f} points'.format( avg_err ) )"
   ]
  },
  {
   "cell_type": "markdown",
   "metadata": {},
   "source": [
    "Results"
   ]
  },
  {
   "cell_type": "markdown",
   "metadata": {},
   "source": [
    "Using a Random Forest Regressor with 500 trees, I was able to correctly predict the scores of team1 within an average of 0.02429 points and correctly predict the scores of team2 within an average of -0.08702 points."
   ]
  },
  {
   "cell_type": "markdown",
   "metadata": {},
   "source": [
    "Using the Random Forest Regressor appeared to be very accurate. On average, the random forest regressor was within less than a point of the acutal score of any given team at any given matchup. The positive-valued errors represent an over-prediction by the regressor (the regressor predicted a score higher than what wasactually scored) and negative-valued errors represent an under-prediction by the regressor (the regressor predicted a score lower than what was acutally scored)."
   ]
  },
  {
   "cell_type": "markdown",
   "metadata": {},
   "source": [
    "To improve upon the accuracy of the regressor, one thing that could be easily adjusted would be the number of trees used in the random forest regressor. Other things that could be used to potentially improve the accuracy would be to see if the date and the season data actually does affect the number of points a team scores."
   ]
  }
 ],
 "metadata": {
  "kernelspec": {
   "display_name": "Python 3",
   "language": "python",
   "name": "python3"
  },
  "language_info": {
   "codemirror_mode": {
    "name": "ipython",
    "version": 3
   },
   "file_extension": ".py",
   "mimetype": "text/x-python",
   "name": "python",
   "nbconvert_exporter": "python",
   "pygments_lexer": "ipython3",
   "version": "3.7.4"
  },
  "varInspector": {
   "cols": {
    "lenName": 16,
    "lenType": 16,
    "lenVar": 40
   },
   "kernels_config": {
    "python": {
     "delete_cmd_postfix": "",
     "delete_cmd_prefix": "del ",
     "library": "var_list.py",
     "varRefreshCmd": "print(var_dic_list())"
    },
    "r": {
     "delete_cmd_postfix": ") ",
     "delete_cmd_prefix": "rm(",
     "library": "var_list.r",
     "varRefreshCmd": "cat(var_dic_list()) "
    }
   },
   "types_to_exclude": [
    "module",
    "function",
    "builtin_function_or_method",
    "instance",
    "_Feature"
   ],
   "window_display": false
  }
 },
 "nbformat": 4,
 "nbformat_minor": 2
}
